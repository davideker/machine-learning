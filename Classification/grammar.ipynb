{
 "metadata": {
  "language_info": {
   "codemirror_mode": {
    "name": "ipython",
    "version": 3
   },
   "file_extension": ".py",
   "mimetype": "text/x-python",
   "name": "python",
   "nbconvert_exporter": "python",
   "pygments_lexer": "ipython3",
   "version": "3.8.5-final"
  },
  "orig_nbformat": 2,
  "kernelspec": {
   "name": "Python 3.8.5 64-bit ('ml')",
   "display_name": "Python 3.8.5 64-bit ('ml')",
   "metadata": {
    "interpreter": {
     "hash": "4b749601e977f33aa7a7731a96539f47ab03f7991493086eb2280c2c42304716"
    }
   }
  }
 },
 "nbformat": 4,
 "nbformat_minor": 2,
 "cells": [
  {
   "cell_type": "code",
   "execution_count": null,
   "metadata": {},
   "outputs": [],
   "source": [
    "import pandas as pd\n",
    "import numpy as np\n",
    "from sklearn import datasets"
   ]
  },
  {
   "cell_type": "code",
   "execution_count": null,
   "metadata": {},
   "outputs": [],
   "source": [
    "\n",
    "df = pd.read_csv('data.csv', index_col=0,usecols=[0,1,2,3,4,5,6,7,8,9])\n",
    "df.head(100)"
   ]
  },
  {
   "cell_type": "code",
   "execution_count": null,
   "metadata": {},
   "outputs": [],
   "source": [
    "from sklearn.tree import DecisionTreeClassifier\n",
    "model = DecisionTreeClassifier()\n",
    "classifier = model.fit(df.values,df.index)"
   ]
  },
  {
   "cell_type": "code",
   "execution_count": null,
   "metadata": {},
   "outputs": [],
   "source": [
    "def count_special_character(string): \n",
    "    #length,spaces,alpha,numeric,specialchars,hyphen,fslah,bslah,parens\n",
    "    # Declaring variable for special characters \n",
    "    vector = [len(string),0,0,0,0,0,0,0,0]\n",
    "   \n",
    "    for i in range(0, len(string)):  \n",
    "    # len(string) function to count the \n",
    "    # number of characters in given string.\n",
    "      \n",
    "        ch = string[i]\n",
    "\n",
    "        #.isalpha() function checks whether character \n",
    "        #is alphabet or not.\n",
    "        if (ch.isalpha()):  \n",
    "            vector[2] += 1\n",
    "        \n",
    "        #.isdigit() function checks whether character \n",
    "        #is a number or not.\n",
    "        elif (ch.isdigit()):\n",
    "            vector[3] += 1\n",
    "            \n",
    "        else:\n",
    "            vector[4] += 1\n",
    "            if (ch == \" \"):\n",
    "                vector[1] += 1\n",
    "            elif (ch == \"-\"):\n",
    "                vector[5] += 1\n",
    "            elif (ch == \"/\"):\n",
    "                vector[6] += 1\n",
    "            elif (ch == \"\\\\\"):\n",
    "                vector[7] += 1\n",
    "            elif (ch == \"(\"  or ch == \")\"):\n",
    "                vector[8] += 1\n",
    "    return vector\n",
    "\n",
    "\n",
    "vector = count_special_character('ZARAADCD7FM130307')\n",
    "\n",
    "prediction = classifier.predict([vector])\n",
    "print(prediction)\n",
    "\n",
    "import pickle\n",
    "\n",
    "s = pickle.dumps(classifier)\n",
    "classifier2  = pickle.loads(s)\n",
    "\n",
    "\n",
    "prediction = classifier2.predict([vector])\n",
    "print(prediction)\n",
    "\n",
    "from joblib import dump, load\n",
    "\n",
    "dump(classifier2, 'grammar.joblib') \n",
    "\n",
    "classifier3 = load('working-grammar.joblib') \n",
    "prediction = classifier3.predict([vector])\n",
    "print(prediction)\n"
   ]
  },
  {
   "cell_type": "code",
   "execution_count": null,
   "metadata": {},
   "outputs": [],
   "source": [
    "from sklearn.tree import export_graphviz\n",
    "export_graphviz(model, 'grammar.dot', feature_names = df.columns)"
   ]
  },
  {
   "cell_type": "code",
   "execution_count": null,
   "metadata": {},
   "outputs": [],
   "source": [
    "! dot -Tpng grammar.dot -o grammar.png"
   ]
  },
  {
   "cell_type": "code",
   "execution_count": null,
   "metadata": {},
   "outputs": [],
   "source": [
    "import matplotlib.pyplot as plt\n",
    "import cv2\n",
    "%matplotlib inline\n",
    "img = cv2.imread('grammar.png')\n",
    "plt.figure(figsize = (20, 20))\n",
    "plt.imshow(img)"
   ]
  },
  {
   "cell_type": "code",
   "execution_count": null,
   "metadata": {},
   "outputs": [],
   "source": []
  }
 ]
}